{
  "cells": [
    {
      "cell_type": "markdown",
      "metadata": {
        "id": "view-in-github",
        "colab_type": "text"
      },
      "source": [
        "<a href=\"https://colab.research.google.com/github/sarwaridas/AdversarialPatches/blob/main/src/GeneratingPatches.ipynb\" target=\"_parent\"><img src=\"https://colab.research.google.com/assets/colab-badge.svg\" alt=\"Open In Colab\"/></a>"
      ]
    },
    {
      "cell_type": "code",
      "execution_count": null,
      "metadata": {
        "colab": {
          "base_uri": "https://localhost:8080/"
        },
        "id": "ryv2rZodcDCz",
        "outputId": "8c012b53-5b96-49cb-9ff1-dc8027bbabc2"
      },
      "outputs": [
        {
          "output_type": "stream",
          "name": "stdout",
          "text": [
            "Mounted at /content/drive\n"
          ]
        }
      ],
      "source": [
        "from google.colab import drive\n",
        "# drive.mount('/gdrive')\n",
        "drive.mount('/content/drive')\n",
        "\n",
        "from pydrive.auth import GoogleAuth\n",
        "from pydrive.drive import GoogleDrive\n",
        "from google.colab import auth\n",
        "from oauth2client.client import GoogleCredentials\n",
        "\n",
        "auth.authenticate_user()\n",
        "gauth = GoogleAuth()\n",
        "gauth.credentials = GoogleCredentials.get_application_default()\n",
        "drive = GoogleDrive(gauth)"
      ]
    },
    {
      "cell_type": "code",
      "source": [
        "%cd /content/drive/MyDrive/Final Project"
      ],
      "metadata": {
        "colab": {
          "base_uri": "https://localhost:8080/"
        },
        "id": "5ZP8MnZ9SMzR",
        "outputId": "20bd6194-f595-4b5d-e499-995a7dbc07b0"
      },
      "execution_count": null,
      "outputs": [
        {
          "output_type": "stream",
          "name": "stdout",
          "text": [
            "/content/drive/MyDrive/Final Project\n"
          ]
        }
      ]
    },
    {
      "cell_type": "markdown",
      "source": [
        "### Importing Required Packages"
      ],
      "metadata": {
        "id": "HyR-ZqHOaoTN"
      }
    },
    {
      "cell_type": "code",
      "execution_count": null,
      "metadata": {
        "id": "LItUOt0sYQ6c"
      },
      "outputs": [],
      "source": [
        "import torch\n",
        "import torchvision\n",
        "from torch import nn\n",
        "from torch.functional import F\n",
        "from torch.optim import *\n",
        "import torchvision.transforms as transforms\n",
        "from torchvision.models import resnet18\n",
        "from torchvision.datasets import CIFAR10\n",
        "import matplotlib.pyplot as plt\n",
        "import numpy as np\n",
        "import warnings\n",
        "warnings.filterwarnings(\"ignore\")\n",
        "\n",
        "device = 'cuda' if torch.cuda.is_available() else 'cpu'\n"
      ]
    },
    {
      "cell_type": "markdown",
      "metadata": {
        "id": "TgzI3uzErThC"
      },
      "source": [
        "### Writing the code for Resnet model"
      ]
    },
    {
      "cell_type": "code",
      "execution_count": null,
      "metadata": {
        "id": "h_xrkh16ZR__"
      },
      "outputs": [],
      "source": [
        "# define the Resnet model\n",
        "class Block(nn.Module):\n",
        "    def __init__(self, in_channels, out_channels, stride=1):\n",
        "        super(Block, self).__init__()\n",
        "        self.conv1 = nn.Conv2d(in_channels, out_channels, kernel_size=3, stride=stride, padding=1)\n",
        "        self.bn1 = nn.BatchNorm2d(out_channels)\n",
        "        self.conv2 = nn.Conv2d(out_channels, out_channels, kernel_size=3, stride=1, padding=1)\n",
        "        self.bn2 = nn.BatchNorm2d(out_channels)\n",
        "        self.identity = nn.Sequential()\n",
        "        if stride != 1:\n",
        "                self.identity = nn.Sequential(\n",
        "                     nn.Conv2d(in_channels,out_channels, kernel_size=1, stride=stride),\n",
        "                     nn.BatchNorm2d(out_channels)\n",
        "                )\n",
        "\n",
        "    def forward(self, x):\n",
        "        out = F.relu(self.bn1(self.conv1(x)))\n",
        "        out = self.bn2(self.conv2(out))\n",
        "        residual = self.identity(x)\n",
        "        out += residual\n",
        "        out = F.relu(out)\n",
        "        return out\n",
        "\n",
        "\n",
        "\n",
        "class ResNet(nn.Module):\n",
        "    def __init__(self):\n",
        "        super(ResNet, self).__init__()\n",
        "        self.in_channels = 16\n",
        "        self.conv1 = nn.Conv2d(3, 16, kernel_size=3, stride=1, padding=1)\n",
        "        self.bn1 = nn.BatchNorm2d(16)\n",
        "        self.layer1 = self.layer(16, stride=1)\n",
        "        self.layer2 = self.layer(32, stride=2)\n",
        "        self.layer3 = self.layer(64, stride=2)\n",
        "        self.linear = nn.Linear(64, 10)\n",
        "\n",
        "    def layer(self, out_channels, stride):\n",
        "      strides = [stride] + [1]*(2)\n",
        "      layers = []\n",
        "      for stride in strides:\n",
        "            layers.append(Block(self.in_channels, out_channels, stride))\n",
        "            self.in_channels = out_channels\n",
        "      return nn.Sequential(*layers)\n",
        "\n",
        "    def forward(self, x):\n",
        "        out = F.relu(self.bn1(self.conv1(x)))\n",
        "        out = self.layer1(out)\n",
        "        out = self.layer2(out)\n",
        "        out = self.layer3(out)\n",
        "        out = F.avg_pool2d(out, 8)\n",
        "        out = out.view(out.size(0), -1)\n",
        "        out = self.linear(out)\n",
        "        return out"
      ]
    },
    {
      "cell_type": "markdown",
      "metadata": {
        "id": "JAMKs3WRrXjf"
      },
      "source": [
        "### Loading pretrained resnet model"
      ]
    },
    {
      "cell_type": "code",
      "execution_count": null,
      "metadata": {
        "colab": {
          "base_uri": "https://localhost:8080/"
        },
        "id": "Mcoj6KcyESjH",
        "outputId": "46698fd0-9e9c-4c87-da72-c7008f65779e"
      },
      "outputs": [
        {
          "name": "stdout",
          "output_type": "stream",
          "text": [
            "model loaded and ready to run\n"
          ]
        }
      ],
      "source": [
        "model = ResNet()\n",
        "model.load_state_dict(torch.load('resnet_91_98.ckpt'))\n",
        "model = model.to(device)\n",
        "model.eval()\n",
        "print('model loaded and ready to run')"
      ]
    },
    {
      "cell_type": "markdown",
      "metadata": {
        "id": "YPYnTymLrwzT"
      },
      "source": [
        "### loading data set and setting up train and test loader"
      ]
    },
    {
      "cell_type": "code",
      "execution_count": null,
      "metadata": {
        "colab": {
          "base_uri": "https://localhost:8080/"
        },
        "id": "jpjKjyaZZZ6O",
        "outputId": "90732650-68e1-492b-9779-7ccf7b7a8945"
      },
      "outputs": [
        {
          "name": "stdout",
          "output_type": "stream",
          "text": [
            "Files already downloaded and verified\n",
            "Files already downloaded and verified\n"
          ]
        }
      ],
      "source": [
        "transform = transforms.Compose(\n",
        "    [transforms.ToTensor(),\n",
        "     transforms.Normalize((0.49139968, 0.48215827 ,0.44653124), (0.24703233, 0.24348505, 0.26158768))\n",
        "    ])\n",
        "\n",
        "\n",
        "batch_size = 512\n",
        "\n",
        "trainset = torchvision.datasets.CIFAR10(root='./data', train=True,\n",
        "                                        download=True, transform=transforms.ToTensor())\n",
        "trainloader = torch.utils.data.DataLoader(trainset, batch_size=batch_size,\n",
        "                                          shuffle=True, num_workers=2)\n",
        "\n",
        "testset = torchvision.datasets.CIFAR10(root='./data', train=False,\n",
        "                                       download=True, transform=transform)\n",
        "testloader = torch.utils.data.DataLoader(testset, batch_size=batch_size,\n",
        "                                         shuffle=False, num_workers=2)"
      ]
    },
    {
      "cell_type": "markdown",
      "metadata": {
        "id": "0WemLxQFTHsg"
      },
      "source": [
        "## Define Mean and STD for Train Data "
      ]
    },
    {
      "cell_type": "code",
      "execution_count": null,
      "metadata": {
        "id": "B60DBo-XTG8K"
      },
      "outputs": [],
      "source": [
        "NORM_MEAN = np.array([0.49139968, 0.48215827 ,0.44653124])\n",
        "NORM_STD = np.array([0.24703233, 0.24348505, 0.26158768])\n",
        "\n",
        "TENSOR_MEANS, TENSOR_STD = torch.FloatTensor(NORM_MEAN)[:,None,None], torch.FloatTensor(NORM_STD)[:,None,None]"
      ]
    },
    {
      "cell_type": "markdown",
      "metadata": {
        "id": "hVuYmJtjr3Gy"
      },
      "source": [
        "### Plot the image"
      ]
    },
    {
      "cell_type": "code",
      "execution_count": null,
      "metadata": {
        "id": "LUd9sA2ecr2D"
      },
      "outputs": [],
      "source": [
        "def imshow(img):\n",
        "    #img = (img * TENSOR_STD) + TENSOR_MEANS     # unnormalize\n",
        "    npimg = img.numpy()\n",
        "    plt.imshow(np.transpose(npimg, (1, 2, 0)))\n",
        "    #plt.title('Frog', fontsize=16)\n",
        "    plt.show()"
      ]
    },
    {
      "cell_type": "code",
      "execution_count": null,
      "metadata": {
        "colab": {
          "base_uri": "https://localhost:8080/",
          "height": 266
        },
        "id": "p4cIKtv5S76N",
        "outputId": "fcf68f70-d0d3-4ac9-fd19-ec91572c3e4d"
      },
      "outputs": [
        {
          "data": {
            "image/png": "[encoded data removed]",
            "text/plain": [
              "<Figure size 432x288 with 1 Axes>"
            ]
          },
          "metadata": {},
          "output_type": "display_data"
        }
      ],
      "source": [
        "imshow(next(iter(trainset))[0])"
      ]
    },
    {
      "cell_type": "markdown",
      "metadata": {
        "id": "PcNm66MLr_Br"
      },
      "source": [
        "### This function will take a batch size and place a patch into each image "
      ]
    },
    {
      "cell_type": "code",
      "execution_count": null,
      "metadata": {
        "id": "y8_27RDSINjo"
      },
      "outputs": [],
      "source": [
        "def place_patch(img, patch, angle):\n",
        "    for i in range(img.shape[0]):\n",
        "        h_offset = np.random.randint(0,img.shape[2]-patch.shape[1]-1)\n",
        "        w_offset = np.random.randint(0,img.shape[3]-patch.shape[2]-1)\n",
        "        img[i,:,h_offset:h_offset+patch.shape[1],w_offset:w_offset+patch.shape[2]] = patch_forward(patch, angle)\n",
        "    return img"
      ]
    },
    {
      "cell_type": "markdown",
      "metadata": {
        "id": "e7EXuNEisGTr"
      },
      "source": [
        "### Normalize the patch into a valid image range. This is done before placing the image into the patch"
      ]
    },
    {
      "cell_type": "code",
      "execution_count": null,
      "metadata": {
        "id": "_oM5XUvl6DT4"
      },
      "outputs": [],
      "source": [
        "def patch_forward(patch, angle):\n",
        "    patch = (torch.tanh(patch) + 1 - 2 * TENSOR_MEANS) / (2 * TENSOR_STD)\n",
        "    patch = transforms.functional.rotate(img=patch, angle=angle)\n",
        "    return patch"
      ]
    },
    {
      "cell_type": "markdown",
      "metadata": {
        "id": "zbUH7gi2s5df"
      },
      "source": [
        "### The following function creates the targeted patch and evaluated the performance of that patch on the test data"
      ]
    },
    {
      "cell_type": "code",
      "execution_count": null,
      "metadata": {
        "id": "Vw54xTmFdnD5"
      },
      "outputs": [],
      "source": [
        "def create_targeted_patch(model, patch_size, target_class, testloader, angle):\n",
        "  criterion = nn.CrossEntropyLoss()\n",
        "  lr = 0.1\n",
        "  patch = nn.Parameter(torch.zeros(3, patch_size, patch_size), requires_grad=True)\n",
        "  optimizer = Adam([patch], lr = lr)\n",
        "\n",
        "  for epoch in range(10):  # loop over the dataset multiple times\n",
        "\n",
        "      # running_loss = 0.0\n",
        "      for i, data in enumerate(trainloader, 0):\n",
        "          # get the inputs; data is a list of [inputs, labels]\n",
        "          inputs, labels = data\n",
        "          inputs = place_patch(inputs, patch, angle)\n",
        "          inputs = inputs.to(device)\n",
        "\n",
        "\n",
        "\n",
        "          # zero the parameter gradients\n",
        "          optimizer.zero_grad()\n",
        "\n",
        "          # forward + backward + optimize\n",
        "          outputs = model(inputs)\n",
        "          labels = labels.fill_(target_class)\n",
        "          labels= labels.to(device)\n",
        "          loss = criterion(outputs, labels)\n",
        "          loss.backward()\n",
        "          optimizer.step()\n",
        "\n",
        "      total_examples = 0\n",
        "      correct_examples = 0\n",
        "      target_class_count = 0\n",
        "\n",
        "      val_loss = 0 # again, track the validation loss if you want\n",
        "\n",
        "      # disable gradient during validation, which can save GPU memory\n",
        "      with torch.no_grad():\n",
        "          for batch_idx, (inputs, labels) in enumerate(testloader):\n",
        "              ####################################\n",
        "              # copy inputs to device\n",
        "              inputs = place_patch(inputs, patch, angle)\n",
        "              inputs = inputs.to(device)\n",
        "              labels = labels.to(device)\n",
        "\n",
        "              \n",
        "              # compute the output and loss\n",
        "              outputs=model(inputs)\n",
        "\n",
        "              \n",
        "              # count the number of correctly predicted samples in the current batch\n",
        "              _, predicted = torch.max(outputs, 1)\n",
        "              target_class_count += sum(predicted == target_class).item()\n",
        "              total_examples += labels.size(0)\n",
        "              correct_examples += (predicted == labels).sum().item()\n",
        "              ####################################\n",
        "\n",
        "      avg_acc = correct_examples / total_examples\n",
        "      print(\"Validation accuracy: %.4f\" % (avg_acc))\n",
        "      print('total target class count', target_class_count)\n",
        "\n",
        "\n",
        "\n",
        "\n",
        "  print('Finished Training')\n",
        "  return patch"
      ]
    },
    {
      "cell_type": "markdown",
      "metadata": {
        "id": "xmByh93DtP6i"
      },
      "source": [
        "### Define a dictionary for target classes and patch size list"
      ]
    },
    {
      "cell_type": "code",
      "execution_count": null,
      "metadata": {
        "id": "sVeQ7g0nC-RK"
      },
      "outputs": [],
      "source": [
        "classes_dict =   {0: 'plane', \n",
        "                  1: 'car', \n",
        "                  2: 'bird', \n",
        "                  3: 'cat', \n",
        "                  4: 'deer', \n",
        "                  5: 'dog', \n",
        "                  6: 'frog', \n",
        "                  7: 'horse', \n",
        "                  8: 'ship', \n",
        "                  9: 'truck'}\n",
        "\n",
        "patch_size = [3,5,7,16]\n"
      ]
    },
    {
      "cell_type": "markdown",
      "metadata": {
        "id": "e70kh9cwte1B"
      },
      "source": [
        "### Loading the model and using to create patches and saving those patches"
      ]
    },
    {
      "cell_type": "code",
      "execution_count": null,
      "metadata": {
        "colab": {
          "base_uri": "https://localhost:8080/"
        },
        "id": "nMn8la12Lugv",
        "outputId": "121e7a73-df64-4eaa-ac92-89ee02d0944a"
      },
      "outputs": [
        {
          "name": "stdout",
          "output_type": "stream",
          "text": [
            "model loaded and ready to run\n",
            "Generating patch for class  plane  for patch size  16 .\n",
            "Validation accuracy: 0.3148\n",
            "total target class count 6379\n",
            "Validation accuracy: 0.3005\n",
            "total target class count 6724\n",
            "Validation accuracy: 0.2854\n",
            "total target class count 6990\n",
            "Validation accuracy: 0.2749\n",
            "total target class count 7208\n",
            "Validation accuracy: 0.2756\n",
            "total target class count 7313\n",
            "Validation accuracy: 0.2719\n",
            "total target class count 7389\n",
            "Validation accuracy: 0.2687\n",
            "total target class count 7409\n",
            "Validation accuracy: 0.2595\n",
            "total target class count 7613\n",
            "Validation accuracy: 0.2526\n",
            "total target class count 7696\n",
            "Validation accuracy: 0.2538\n",
            "total target class count 7704\n",
            "Finished Training\n",
            "Generating patch for class  car  for patch size  16 .\n",
            "Validation accuracy: 0.2074\n",
            "total target class count 8505\n",
            "Validation accuracy: 0.1906\n",
            "total target class count 8785\n",
            "Validation accuracy: 0.1816\n",
            "total target class count 8926\n",
            "Validation accuracy: 0.1776\n",
            "total target class count 9020\n",
            "Validation accuracy: 0.1693\n",
            "total target class count 9119\n",
            "Validation accuracy: 0.1631\n",
            "total target class count 9202\n",
            "Validation accuracy: 0.1600\n",
            "total target class count 9224\n",
            "Validation accuracy: 0.1554\n",
            "total target class count 9322\n",
            "Validation accuracy: 0.1532\n",
            "total target class count 9355\n",
            "Validation accuracy: 0.1552\n",
            "total target class count 9340\n",
            "Finished Training\n",
            "Generating patch for class  bird  for patch size  16 .\n",
            "Validation accuracy: 0.2776\n",
            "total target class count 7717\n",
            "Validation accuracy: 0.2629\n",
            "total target class count 7970\n",
            "Validation accuracy: 0.2468\n",
            "total target class count 8178\n",
            "Validation accuracy: 0.2459\n",
            "total target class count 8232\n",
            "Validation accuracy: 0.2377\n",
            "total target class count 8334\n",
            "Validation accuracy: 0.2359\n",
            "total target class count 8370\n",
            "Validation accuracy: 0.2311\n",
            "total target class count 8423\n",
            "Validation accuracy: 0.2256\n",
            "total target class count 8490\n",
            "Validation accuracy: 0.2207\n",
            "total target class count 8534\n",
            "Validation accuracy: 0.2192\n",
            "total target class count 8558\n",
            "Finished Training\n",
            "Generating patch for class  truck  for patch size  16 .\n",
            "Validation accuracy: 0.2141\n",
            "total target class count 8594\n",
            "Validation accuracy: 0.1945\n",
            "total target class count 8862\n",
            "Validation accuracy: 0.1930\n",
            "total target class count 8910\n",
            "Validation accuracy: 0.1813\n",
            "total target class count 9040\n",
            "Validation accuracy: 0.1770\n",
            "total target class count 9087\n",
            "Validation accuracy: 0.1721\n",
            "total target class count 9178\n",
            "Validation accuracy: 0.1669\n",
            "total target class count 9228\n",
            "Validation accuracy: 0.1655\n",
            "total target class count 9252\n",
            "Validation accuracy: 0.1656\n",
            "total target class count 9259\n",
            "Validation accuracy: 0.1632\n",
            "total target class count 9273\n",
            "Finished Training\n"
          ]
        }
      ],
      "source": [
        "model = ResNet()\n",
        "model.load_state_dict(torch.load('resnet_91_98.ckpt'))\n",
        "model = model.to(device)\n",
        "model.eval()\n",
        "print('model loaded and ready to run')\n",
        "\n",
        "for i in classes_dict:\n",
        "  if i in {0,1,2,9}:\n",
        "    for patch in patch_size:\n",
        "      if patch == 16:\n",
        "        patch_path = classes_dict[i] + str(patch) + 'x' + str(patch) + '.pt'\n",
        "        print('Generating patch for class ', classes_dict[i], ' for patch size ', str(patch), '.')\n",
        "        label_patch = create_targeted_patch(model, patch, i, testloader)\n",
        "        torch.save(label_patch, patch_path)"
      ]
    },
    {
      "cell_type": "markdown",
      "metadata": {
        "id": "wF3TSWmdG9gf"
      },
      "source": [
        "### Create rotated patches"
      ]
    },
    {
      "cell_type": "code",
      "execution_count": null,
      "metadata": {
        "colab": {
          "base_uri": "https://localhost:8080/"
        },
        "id": "aDXgyYIZG820",
        "outputId": "e6819c1f-2486-40a6-bf5a-ae1b48845a11"
      },
      "outputs": [
        {
          "name": "stdout",
          "output_type": "stream",
          "text": [
            "model loaded and ready to run\n",
            "Generating patch for patch size  7  rotation  90 .\n",
            "Validation accuracy: 0.7756\n",
            "total target class count 1713\n",
            "Validation accuracy: 0.7650\n",
            "total target class count 1827\n",
            "Validation accuracy: 0.7669\n",
            "total target class count 1845\n",
            "Validation accuracy: 0.7600\n",
            "total target class count 1905\n",
            "Validation accuracy: 0.7602\n",
            "total target class count 1904\n",
            "Validation accuracy: 0.7619\n",
            "total target class count 1860\n",
            "Validation accuracy: 0.7639\n",
            "total target class count 1885\n",
            "Validation accuracy: 0.7648\n",
            "total target class count 1879\n",
            "Validation accuracy: 0.7602\n",
            "total target class count 1895\n",
            "Validation accuracy: 0.7620\n",
            "total target class count 1853\n",
            "Finished Training\n",
            "Generating patch for patch size  7  rotation  180 .\n",
            "Validation accuracy: 0.7734\n",
            "total target class count 1722\n",
            "Validation accuracy: 0.7714\n",
            "total target class count 1783\n",
            "Validation accuracy: 0.7720\n",
            "total target class count 1803\n",
            "Validation accuracy: 0.7661\n",
            "total target class count 1808\n",
            "Validation accuracy: 0.7662\n",
            "total target class count 1846\n",
            "Validation accuracy: 0.7674\n",
            "total target class count 1815\n",
            "Validation accuracy: 0.7645\n",
            "total target class count 1875\n",
            "Validation accuracy: 0.7599\n",
            "total target class count 1869\n",
            "Validation accuracy: 0.7610\n",
            "total target class count 1874\n",
            "Validation accuracy: 0.7556\n",
            "total target class count 1898\n",
            "Finished Training\n",
            "Generating patch for patch size  7  rotation  270 .\n",
            "Validation accuracy: 0.7732\n",
            "total target class count 1718\n",
            "Validation accuracy: 0.7706\n",
            "total target class count 1791\n",
            "Validation accuracy: 0.7618\n",
            "total target class count 1810\n",
            "Validation accuracy: 0.7619\n",
            "total target class count 1765\n",
            "Validation accuracy: 0.7620\n",
            "total target class count 1858\n",
            "Validation accuracy: 0.7553\n",
            "total target class count 1872\n",
            "Validation accuracy: 0.7635\n",
            "total target class count 1828\n",
            "Validation accuracy: 0.7593\n",
            "total target class count 1878\n",
            "Validation accuracy: 0.7662\n",
            "total target class count 1799\n",
            "Validation accuracy: 0.7589\n",
            "total target class count 1824\n",
            "Finished Training\n",
            "Generating patch for patch size  16  rotation  90 .\n",
            "Validation accuracy: 0.3182\n",
            "total target class count 6098\n",
            "Validation accuracy: 0.3050\n",
            "total target class count 6523\n",
            "Validation accuracy: 0.2922\n",
            "total target class count 6799\n",
            "Validation accuracy: 0.2747\n",
            "total target class count 7074\n",
            "Validation accuracy: 0.2707\n",
            "total target class count 7218\n",
            "Validation accuracy: 0.2653\n",
            "total target class count 7366\n",
            "Validation accuracy: 0.2589\n",
            "total target class count 7509\n",
            "Validation accuracy: 0.2513\n",
            "total target class count 7649\n",
            "Validation accuracy: 0.2436\n",
            "total target class count 7768\n",
            "Validation accuracy: 0.2430\n",
            "total target class count 7806\n",
            "Finished Training\n",
            "Generating patch for patch size  16  rotation  180 .\n",
            "Validation accuracy: 0.3249\n",
            "total target class count 5884\n",
            "Validation accuracy: 0.3053\n",
            "total target class count 6399\n",
            "Validation accuracy: 0.2868\n",
            "total target class count 6890\n",
            "Validation accuracy: 0.2792\n",
            "total target class count 7077\n",
            "Validation accuracy: 0.2729\n",
            "total target class count 7233\n",
            "Validation accuracy: 0.2643\n",
            "total target class count 7472\n",
            "Validation accuracy: 0.2614\n",
            "total target class count 7477\n",
            "Validation accuracy: 0.2538\n",
            "total target class count 7624\n",
            "Validation accuracy: 0.2546\n",
            "total target class count 7650\n",
            "Validation accuracy: 0.2506\n",
            "total target class count 7715\n",
            "Finished Training\n",
            "Generating patch for patch size  16  rotation  270 .\n",
            "Validation accuracy: 0.3121\n",
            "total target class count 6417\n",
            "Validation accuracy: 0.2937\n",
            "total target class count 6932\n",
            "Validation accuracy: 0.2815\n",
            "total target class count 7170\n",
            "Validation accuracy: 0.2733\n",
            "total target class count 7363\n",
            "Validation accuracy: 0.2687\n",
            "total target class count 7497\n",
            "Validation accuracy: 0.2630\n",
            "total target class count 7608\n",
            "Validation accuracy: 0.2582\n",
            "total target class count 7750\n",
            "Validation accuracy: 0.2558\n",
            "total target class count 7739\n",
            "Validation accuracy: 0.2582\n",
            "total target class count 7721\n",
            "Validation accuracy: 0.2546\n",
            "total target class count 7850\n",
            "Finished Training\n"
          ]
        }
      ],
      "source": [
        "model = ResNet()\n",
        "model.load_state_dict(torch.load('resnet_91_98.ckpt'))\n",
        "model = model.to(device)\n",
        "model.eval()\n",
        "print('model loaded and ready to run')\n",
        "\n",
        "rotations = [90, 180, 270]\n",
        "for patch in patch_size:\n",
        "    for rot in rotations:\n",
        "        patch_path = \"plane\" + str(patch) + \"x\" + str(patch) + \"rotate\" + str(rot) + \".pt\"\n",
        "        print('Generating patch for patch size ', str(patch), ' rotation ', str(rot), '.')\n",
        "        label_patch = create_targeted_patch(model, patch, 0, testloader, rot)\n",
        "        torch.save(label_patch, patch_path)"
      ]
    },
    {
      "cell_type": "markdown",
      "metadata": {
        "id": "inaDKorztnzY"
      },
      "source": [
        "### The function creates an untargeted patch and evaluates that patch on test loader"
      ]
    },
    {
      "cell_type": "code",
      "execution_count": null,
      "metadata": {
        "id": "213vwTb2FP4N"
      },
      "outputs": [],
      "source": [
        "def create_untargeted_patch(model, patch_size, testloader, angle):\n",
        "  criterion = nn.CrossEntropyLoss()\n",
        "  lr = 0.1\n",
        "  patch = nn.Parameter(torch.rand(3, patch_size, patch_size), requires_grad=True)\n",
        "  optimizer = Adam([patch], lr = lr)\n",
        "\n",
        "  for epoch in range(10):  # loop over the dataset multiple times\n",
        "\n",
        "      # running_loss = 0.0\n",
        "      for i, data in enumerate(trainloader, 0):\n",
        "          # get the inputs; data is a list of [inputs, labels]\n",
        "          inputs, labels = data\n",
        "          inputs = place_patch(inputs, patch, angle)\n",
        "          inputs = inputs.to(device)\n",
        "\n",
        "          # zero the parameter gradients\n",
        "          optimizer.zero_grad()\n",
        "\n",
        "          # forward + backward + optimize\n",
        "          outputs = model(inputs)\n",
        "          labels= labels.to(device)\n",
        "          loss = criterion(outputs, labels) * -1\n",
        "          loss.backward()\n",
        "          optimizer.step()\n",
        "\n",
        "      total_examples = 0\n",
        "      correct_examples = 0\n",
        "\n",
        "\n",
        "      # disable gradient during validation, which can save GPU memory\n",
        "      with torch.no_grad():\n",
        "          for batch_idx, (inputs, labels) in enumerate(testloader):\n",
        "              ####################################\n",
        "              # copy inputs to device\n",
        "              inputs = place_patch(inputs, patch, angle)\n",
        "              inputs = inputs.to(device)\n",
        "              labels = labels.to(device)\n",
        "\n",
        "              \n",
        "              # compute the output and loss\n",
        "              outputs=model(inputs)\n",
        "\n",
        "              \n",
        "              # count the number of correctly predicted samples in the current batch\n",
        "              _, predicted = torch.max(outputs, 1)\n",
        "              total_examples += labels.size(0)\n",
        "              correct_examples += (predicted == labels).sum().item()\n",
        "              ####################################\n",
        "\n",
        "      avg_acc = correct_examples / total_examples\n",
        "      print(\"Validation accuracy: %.4f\" % (avg_acc))\n",
        "\n",
        "  print('Finished Training')\n",
        "  return patch"
      ]
    },
    {
      "cell_type": "code",
      "execution_count": null,
      "metadata": {
        "colab": {
          "base_uri": "https://localhost:8080/"
        },
        "id": "6C6h1NI7cxRv",
        "outputId": "aa3a9822-9a72-4c44-f8ef-3388b87ec974"
      },
      "outputs": [
        {
          "name": "stdout",
          "output_type": "stream",
          "text": [
            "Validation accuracy: 0.1003\n",
            "Validation accuracy: 0.1002\n",
            "Validation accuracy: 0.1001\n",
            "Validation accuracy: 0.1000\n",
            "Validation accuracy: 0.1000\n",
            "Validation accuracy: 0.1000\n",
            "Validation accuracy: 0.1000\n",
            "Validation accuracy: 0.1000\n",
            "Validation accuracy: 0.1001\n",
            "Validation accuracy: 0.1001\n",
            "Finished Training\n"
          ]
        }
      ],
      "source": [
        "untargeted_patch = create_untargeted_patch(model, 16, testloader)\n",
        "torch.save(untargeted_patch, 'untargeted' + str(16)+ 'x' + str(16) +'.pt')"
      ]
    },
    {
      "cell_type": "markdown",
      "metadata": {
        "id": "5oTSktc5Drg2"
      },
      "source": [
        "### Rotate untargeted patch"
      ]
    },
    {
      "cell_type": "code",
      "execution_count": null,
      "metadata": {
        "colab": {
          "background_save": true,
          "base_uri": "https://localhost:8080/"
        },
        "id": "xd5ffFkEDoca",
        "outputId": "90a2abb9-e1d4-4e3b-e5f5-cf88ef26b5e8"
      },
      "outputs": [
        {
          "name": "stdout",
          "output_type": "stream",
          "text": [
            "Generating patch for patch size  3  rotation  90 .\n",
            "Validation accuracy: 0.8226\n",
            "Validation accuracy: 0.8185\n",
            "Validation accuracy: 0.8184\n",
            "Validation accuracy: 0.8194\n",
            "Validation accuracy: 0.8158\n",
            "Validation accuracy: 0.8205\n",
            "Validation accuracy: 0.8172\n",
            "Validation accuracy: 0.8208\n",
            "Validation accuracy: 0.8195\n",
            "Validation accuracy: 0.8209\n",
            "Finished Training\n",
            "Generating patch for patch size  3  rotation  180 .\n",
            "Validation accuracy: 0.8240\n",
            "Validation accuracy: 0.8312\n",
            "Validation accuracy: 0.8274\n",
            "Validation accuracy: 0.8287\n",
            "Validation accuracy: 0.8287\n",
            "Validation accuracy: 0.8325\n",
            "Validation accuracy: 0.8250\n",
            "Validation accuracy: 0.8257\n",
            "Validation accuracy: 0.8281\n",
            "Validation accuracy: 0.8324\n",
            "Finished Training\n",
            "Generating patch for patch size  3  rotation  270 .\n",
            "Validation accuracy: 0.8289\n",
            "Validation accuracy: 0.8318\n",
            "Validation accuracy: 0.8328\n",
            "Validation accuracy: 0.8330\n",
            "Validation accuracy: 0.8273\n",
            "Validation accuracy: 0.8331\n",
            "Validation accuracy: 0.8353\n",
            "Validation accuracy: 0.8320\n",
            "Validation accuracy: 0.8391\n",
            "Validation accuracy: 0.8221\n",
            "Finished Training\n",
            "Generating patch for patch size  5  rotation  90 .\n",
            "Validation accuracy: 0.6715\n",
            "Validation accuracy: 0.6340\n",
            "Validation accuracy: 0.6536\n",
            "Validation accuracy: 0.6548\n",
            "Validation accuracy: 0.6606\n",
            "Validation accuracy: 0.6532\n",
            "Validation accuracy: 0.6543\n",
            "Validation accuracy: 0.6532\n",
            "Validation accuracy: 0.6547\n",
            "Validation accuracy: 0.6569\n",
            "Finished Training\n",
            "Generating patch for patch size  5  rotation  180 .\n",
            "Validation accuracy: 0.6707\n",
            "Validation accuracy: 0.6644\n",
            "Validation accuracy: 0.6754\n",
            "Validation accuracy: 0.6755\n",
            "Validation accuracy: 0.6735\n",
            "Validation accuracy: 0.6682\n",
            "Validation accuracy: 0.6751\n",
            "Validation accuracy: 0.6772\n",
            "Validation accuracy: 0.6705\n",
            "Validation accuracy: 0.6763\n",
            "Finished Training\n",
            "Generating patch for patch size  5  rotation  270 .\n",
            "Validation accuracy: 0.6489\n",
            "Validation accuracy: 0.6487\n",
            "Validation accuracy: 0.6500\n",
            "Validation accuracy: 0.6541\n",
            "Validation accuracy: 0.6562\n",
            "Validation accuracy: 0.6570\n",
            "Validation accuracy: 0.6548\n",
            "Validation accuracy: 0.6579\n",
            "Validation accuracy: 0.6547\n",
            "Validation accuracy: 0.6600\n",
            "Finished Training\n",
            "Generating patch for patch size  7  rotation  90 .\n",
            "Validation accuracy: 0.4704\n",
            "Validation accuracy: 0.4607\n",
            "Validation accuracy: 0.4573\n",
            "Validation accuracy: 0.4602\n",
            "Validation accuracy: 0.4662\n",
            "Validation accuracy: 0.4574\n",
            "Validation accuracy: 0.4587\n",
            "Validation accuracy: 0.4612\n",
            "Validation accuracy: 0.4626\n",
            "Validation accuracy: 0.4585\n",
            "Finished Training\n",
            "Generating patch for patch size  7  rotation  180 .\n",
            "Validation accuracy: 0.6552\n",
            "Validation accuracy: 0.6481\n",
            "Validation accuracy: 0.6428\n",
            "Validation accuracy: 0.6435\n",
            "Validation accuracy: 0.6455\n",
            "Validation accuracy: 0.6392\n",
            "Validation accuracy: 0.6492\n",
            "Validation accuracy: 0.6526\n",
            "Validation accuracy: 0.6442\n",
            "Validation accuracy: 0.6453\n",
            "Finished Training\n",
            "Generating patch for patch size  7  rotation  270 .\n",
            "Validation accuracy: 0.4867\n",
            "Validation accuracy: 0.4800\n",
            "Validation accuracy: 0.4779\n",
            "Validation accuracy: 0.4800\n",
            "Validation accuracy: 0.4679\n",
            "Validation accuracy: 0.4803\n",
            "Validation accuracy: 0.4810\n",
            "Validation accuracy: 0.4847\n",
            "Validation accuracy: 0.4826\n",
            "Validation accuracy: 0.4828\n",
            "Finished Training\n",
            "Generating patch for patch size  16  rotation  90 .\n",
            "Validation accuracy: 0.1007\n",
            "Validation accuracy: 0.1003\n",
            "Validation accuracy: 0.1002\n",
            "Validation accuracy: 0.1001\n",
            "Validation accuracy: 0.1002\n",
            "Validation accuracy: 0.1002\n",
            "Validation accuracy: 0.1004\n",
            "Validation accuracy: 0.1004\n",
            "Validation accuracy: 0.1004\n",
            "Validation accuracy: 0.1002\n",
            "Finished Training\n",
            "Generating patch for patch size  16  rotation  180 .\n",
            "Validation accuracy: 0.1003\n",
            "Validation accuracy: 0.1002\n",
            "Validation accuracy: 0.1001\n",
            "Validation accuracy: 0.1002\n",
            "Validation accuracy: 0.1000\n",
            "Validation accuracy: 0.1001\n",
            "Validation accuracy: 0.1001\n",
            "Validation accuracy: 0.1000\n",
            "Validation accuracy: 0.1000\n",
            "Validation accuracy: 0.1000\n",
            "Finished Training\n",
            "Generating patch for patch size  16  rotation  270 .\n",
            "Validation accuracy: 0.1002\n",
            "Validation accuracy: 0.1000\n",
            "Validation accuracy: 0.1001\n",
            "Validation accuracy: 0.1001\n",
            "Validation accuracy: 0.1000\n",
            "Validation accuracy: 0.1001\n",
            "Validation accuracy: 0.1000\n",
            "Validation accuracy: 0.1001\n",
            "Validation accuracy: 0.1000\n",
            "Validation accuracy: 0.1002\n",
            "Finished Training\n"
          ]
        }
      ],
      "source": [
        "rotations = [90, 180, 270]\n",
        "for patch in patch_size:\n",
        "    for rot in rotations:\n",
        "        patch_path = \"untargeted\" + str(patch) + \"x\" + str(patch) + \"rotate\" + str(rot) + \".pt\"\n",
        "        print('Generating patch for patch size ', str(patch), ' rotation ', str(rot), '.')\n",
        "        untargeted_patch = create_untargeted_patch(model, patch, testloader, rot)\n",
        "        torch.save(untargeted_patch, patch_path)"
      ]
    },
    {
      "cell_type": "markdown",
      "metadata": {
        "id": "RxEddbafvp0m"
      },
      "source": [
        "### Plotting patches of the size 16x16"
      ]
    },
    {
      "cell_type": "code",
      "execution_count": null,
      "metadata": {
        "colab": {
          "base_uri": "https://localhost:8080/",
          "height": 555
        },
        "id": "2NEkD0fjc396",
        "outputId": "a0dcd144-1598-40ab-b727-ea7e508fee76"
      },
      "outputs": [
        {
          "data": {
            "image/png": "[encoded data removed]",
            "text/plain": [
              "<Figure size 648x648 with 4 Axes>"
            ]
          },
          "metadata": {},
          "output_type": "display_data"
        }
      ],
      "source": [
        "patch_names = ['plane', 'car', 'truck', 'bird']\n",
        "plt.subplots(2,2, figsize=(9,9))\n",
        "for i in range(len(patch_names)):\n",
        "  patch = torch.load(patch_names[i]+'16x16.pt')\n",
        "  patch = (patch * TENSOR_STD) + TENSOR_MEANS\n",
        "  patch = patch.detach().numpy().transpose(1,2,0)\n",
        "  plt.subplot(2,2,i+1)\n",
        "  plt.imshow(patch)\n",
        "  plt.title(patch_names[i], fontsize=16)"
      ]
    },
    {
      "cell_type": "markdown",
      "metadata": {
        "id": "88fv1TBA-7Ap"
      },
      "source": [
        "### Plotting untargetted patch"
      ]
    },
    {
      "cell_type": "code",
      "execution_count": null,
      "metadata": {
        "colab": {
          "base_uri": "https://localhost:8080/",
          "height": 301
        },
        "id": "0JmlD54b-_o2",
        "outputId": "c3f47f46-89b4-4ae5-86e6-72e844595434"
      },
      "outputs": [
        {
          "name": "stderr",
          "output_type": "stream",
          "text": [
            "WARNING:matplotlib.image:Clipping input data to the valid range for imshow with RGB data ([0..1] for floats or [0..255] for integers).\n"
          ]
        },
        {
          "data": {
            "image/png": "[encoded data removed]",
            "text/plain": [
              "<Figure size 432x288 with 1 Axes>"
            ]
          },
          "metadata": {},
          "output_type": "display_data"
        }
      ],
      "source": [
        "patch = torch.load('untargeted16x16.pt')\n",
        "patch = (patch * TENSOR_STD) + TENSOR_MEANS\n",
        "patch = patch.detach().numpy().transpose(1,2,0)\n",
        "plt.imshow(patch)\n",
        "plt.title('Untargeted', fontsize= 16)\n",
        "plt.show()"
      ]
    },
    {
      "cell_type": "markdown",
      "metadata": {
        "id": "-0Fi5pzG-u5c"
      },
      "source": [
        "#### Patch testing on white box model (Resnet)"
      ]
    },
    {
      "cell_type": "code",
      "execution_count": null,
      "metadata": {
        "colab": {
          "base_uri": "https://localhost:8080/"
        },
        "id": "d5mmmU8w-z-l",
        "outputId": "e1d0a5d0-ff7e-4f21-8a7c-76311979612e"
      },
      "outputs": [
        {
          "name": "stdout",
          "output_type": "stream",
          "text": [
            "For the patch  plane  and size  3  the accuracy on test data is  0.8643  and the attack sucess rate is  0.1176\n",
            "For the patch  plane  and size  5  the accuracy on test data is  0.8061  and the attack sucess rate is  0.1498\n",
            "For the patch  plane  and size  7  the accuracy on test data is  0.7535  and the attack sucess rate is  0.1915\n",
            "For the patch  plane  and size  16  the accuracy on test data is  0.2532  and the attack sucess rate is  0.7746\n",
            "For the patch  car  and size  3  the accuracy on test data is  0.8874  and the attack sucess rate is  0.0965\n",
            "For the patch  car  and size  5  the accuracy on test data is  0.8435  and the attack sucess rate is  0.1059\n",
            "For the patch  car  and size  7  the accuracy on test data is  0.7391  and the attack sucess rate is  0.1699\n",
            "For the patch  car  and size  16  the accuracy on test data is  0.1514  and the attack sucess rate is  0.9364\n",
            "For the patch  truck  and size  3  the accuracy on test data is  0.8844  and the attack sucess rate is  0.1007\n",
            "For the patch  truck  and size  5  the accuracy on test data is  0.8539  and the attack sucess rate is  0.116\n",
            "For the patch  truck  and size  7  the accuracy on test data is  0.7685  and the attack sucess rate is  0.1811\n",
            "For the patch  truck  and size  16  the accuracy on test data is  0.1606  and the attack sucess rate is  0.9309\n",
            "For the patch  bird  and size  3  the accuracy on test data is  0.8488  and the attack sucess rate is  0.1377\n",
            "For the patch  bird  and size  5  the accuracy on test data is  0.7284  and the attack sucess rate is  0.2648\n",
            "For the patch  bird  and size  7  the accuracy on test data is  0.6076  and the attack sucess rate is  0.4093\n",
            "For the patch  bird  and size  16  the accuracy on test data is  0.2194  and the attack sucess rate is  0.858\n",
            "For the untargeted patch  of size  3  the accuracy on test data is  0.8127\n",
            "For the untargeted patch  of size  5  the accuracy on test data is  0.6336\n",
            "For the untargeted patch  of size  7  the accuracy on test data is  0.4411\n",
            "For the untargeted patch  of size  16  the accuracy on test data is  0.1009\n"
          ]
        }
      ],
      "source": [
        "patch_names = {'plane':0, 'car':1, 'truck':9, 'bird':2, 'untargeted': 10}\n",
        "sizes = [3,5,7,16]\n",
        "angle = 0\n",
        "\n",
        "for i in patch_names:\n",
        "  for j in sizes:\n",
        "    patch = torch.load(i + str(j) + 'x' + str(j) + '.pt')\n",
        "    total_examples = 0\n",
        "    correct_examples = 0\n",
        "    target_class_count = 0\n",
        "\n",
        "\n",
        "    # disable gradient during validation, which can save GPU memory\n",
        "    with torch.no_grad():\n",
        "      for batch_idx, (inputs, labels) in enumerate(testloader):\n",
        "        ####################################\n",
        "        # copy inputs to device\n",
        "        inputs = place_patch(inputs, patch, angle)\n",
        "        inputs = inputs.to(device)\n",
        "        labels = labels.to(device)\n",
        "\n",
        "        \n",
        "        # compute the output and loss\n",
        "        outputs=model(inputs)\n",
        "\n",
        "        \n",
        "        # count the number of correctly predicted samples in the current batch\n",
        "        _, predicted = torch.max(outputs, 1)\n",
        "        total_examples += labels.size(0)\n",
        "        correct_examples += (predicted == labels).sum().item()\n",
        "        if i != 'untargeted':\n",
        "          target_class_count += sum(predicted == patch_names[i]).item()\n",
        "        else:\n",
        "          pass\n",
        "\n",
        "      if i != 'untargeted':\n",
        "        print('For the patch ', i, ' and size ', j, ' the accuracy on test data is ', correct_examples/total_examples, ' and the attack sucess rate is ', target_class_count/10_000)\n",
        "      else:\n",
        "        print('For the untargeted patch', ' of size ', j, ' the accuracy on test data is ', correct_examples/total_examples)\n",
        "\n",
        "\n"
      ]
    },
    {
      "cell_type": "code",
      "execution_count": null,
      "metadata": {
        "colab": {
          "base_uri": "https://localhost:8080/",
          "height": 464
        },
        "id": "CwGoljnpIJs6",
        "outputId": "ad7625fd-eb53-4052-82e0-d08e46a635e5"
      },
      "outputs": [
        {
          "data": {
            "image/png": "[encoded data removed]",
            "text/plain": [
              "<Figure size 1152x504 with 2 Axes>"
            ]
          },
          "metadata": {},
          "output_type": "display_data"
        }
      ],
      "source": [
        "patch = [3,5,7,16, 3,5,7,16, 3,5,7,16, 3,5,7,16, 3,5,7,16]\n",
        "obj = ['plane', 'plane', 'plane', 'plane', 'car', 'car', 'car', 'car', 'truck', 'truck', 'truck', 'truck', 'bird', 'bird', 'bird', 'bird', 'untargeted', 'untargeted', 'untargeted', 'untargeted']\n",
        "acc = [0.8643, 0.8061, 0.7535, 0.2532, 0.8874, 0.8435, 0.7391, 0.1514, 0.8844, 0.8539, 0.7685, 0.1606, 0.8488, 0.7284, 0.6076, 0.2194, 0.8127, 0.6336, 0.4411, 0.1009]\n",
        "ATR = [0.1176, 0.1498, 0.1915, 0.7746, 0.0965, 0.1059, 0.1699, 0.9634, 0.1007, 0.116, 0.1811, 0.9309, 0.1377, 0.2648, 0.4093, 0.858, None, None, None, None]\n",
        "#car_acc = [0.8874, 0.8435, 0.7391, 0.1514]\n",
        "#car_ATR = [0.0965, 0.1059, 0.1699, 0.9634]\n",
        "#truck_acc = [0.8844, 0.8539, 0.7685, 0.1606]\n",
        "#truck_ATR = [0.1007, 0.116, 0.1811, 0.9309]\n",
        "#bird_acc = [0.8488, 0.7284, 0.6076, 0.2194]\n",
        "#bird_ATR = [0.1377, 0.2648, 0.4093, 0.858]\n",
        "#untargeted_acc = [0.8127, 0.6336, 0.4411, 0.1009]\n",
        "\n",
        "import pandas as pd\n",
        "import seaborn as sns\n",
        "data = pd.DataFrame({'patch': patch, 'object': obj, 'acc': acc, 'ATR' : ATR})\n",
        "target = data.loc[data['object'] != 'untargeted']\n",
        "\n",
        "plt.subplots(1,2, figsize=(16,7))\n",
        "plt.subplot(1,2,1)\n",
        "sns.barplot(data=target, x='patch', y ='ATR', hue='object')\n",
        "plt.title('Attack Success Rate Across Patch Size', fontsize=16)\n",
        "plt.ylabel('Attack Succes Rate', fontsize=14)\n",
        "plt.xlabel('Patch Size', fontsize=14)\n",
        "\n",
        "plt.subplot(1,2,2)\n",
        "sns.barplot(data=data, x='patch', y ='acc', hue='object')\n",
        "plt.title('Test Accuracy Across Patch Size', fontsize=16)\n",
        "plt.ylabel('Test Accuracy', fontsize=14)\n",
        "plt.xlabel('Patch Size', fontsize=14)\n",
        "plt.show()\n"
      ]
    },
    {
      "cell_type": "markdown",
      "metadata": {
        "id": "pposbo7UYm_U"
      },
      "source": [
        "### Test rotated patches"
      ]
    },
    {
      "cell_type": "code",
      "execution_count": null,
      "metadata": {
        "colab": {
          "base_uri": "https://localhost:8080/"
        },
        "id": "k2EPHM-3Ymde",
        "outputId": "871ba63d-a2f7-4bdb-815e-05e958656155"
      },
      "outputs": [
        {
          "name": "stdout",
          "output_type": "stream",
          "text": [
            "For the patch size  3  and rotation  0  the accuracy on test data is  0.8666  and the attack sucess rate is  0.1174\n",
            "For the patch size  3  and rotation  90  the accuracy on test data is  0.8654  and the attack sucess rate is  0.1156\n",
            "For the patch size  3  and rotation  180  the accuracy on test data is  0.8585  and the attack sucess rate is  0.1178\n",
            "For the patch size  3  and rotation  270  the accuracy on test data is  0.8501  and the attack sucess rate is  0.1226\n",
            "For the patch size  5  and rotation  0  the accuracy on test data is  0.807  and the attack sucess rate is  0.1512\n",
            "For the patch size  5  and rotation  90  the accuracy on test data is  0.8107  and the attack sucess rate is  0.1477\n",
            "For the patch size  5  and rotation  180  the accuracy on test data is  0.8086  and the attack sucess rate is  0.1489\n",
            "For the patch size  5  and rotation  270  the accuracy on test data is  0.8079  and the attack sucess rate is  0.1504\n",
            "For the patch size  7  and rotation  0  the accuracy on test data is  0.7506  and the attack sucess rate is  0.1918\n",
            "For the patch size  7  and rotation  90  the accuracy on test data is  0.7618  and the attack sucess rate is  0.1887\n",
            "For the patch size  7  and rotation  180  the accuracy on test data is  0.7444  and the attack sucess rate is  0.193\n",
            "For the patch size  7  and rotation  270  the accuracy on test data is  0.763  and the attack sucess rate is  0.181\n",
            "For the patch size  16  and rotation  0  the accuracy on test data is  0.2573  and the attack sucess rate is  0.7674\n",
            "For the patch size  16  and rotation  90  the accuracy on test data is  0.2385  and the attack sucess rate is  0.7853\n",
            "For the patch size  16  and rotation  180  the accuracy on test data is  0.2475  and the attack sucess rate is  0.7772\n",
            "For the patch size  16  and rotation  270  the accuracy on test data is  0.2522  and the attack sucess rate is  0.7782\n"
          ]
        }
      ],
      "source": [
        "sizes = [3,5,7,16]\n",
        "rot = [0, 90, 180, 270]\n",
        "rot_acc = []\n",
        "rot_asr = []\n",
        "\n",
        "for i in sizes:\n",
        "    for j in rot:\n",
        "        if j == 0:\n",
        "            patch = torch.load('plane' + str(i) + 'x' + str(i) + '.pt')\n",
        "        else:\n",
        "            patch = torch.load('plane' + str(i) + 'x' + str(i) + 'rotate' + str(j) + '.pt')\n",
        "        total_examples = 0\n",
        "        correct_examples = 0\n",
        "        target_class_count = 0\n",
        "\n",
        "\n",
        "    # disable gradient during validation, which can save GPU memory\n",
        "        with torch.no_grad():\n",
        "            for batch_idx, (inputs, labels) in enumerate(testloader):\n",
        "        ####################################\n",
        "        # copy inputs to device\n",
        "                inputs = place_patch(inputs, patch, j)\n",
        "                inputs = inputs.to(device)\n",
        "                labels = labels.to(device)\n",
        "\n",
        "        \n",
        "        # compute the output and loss\n",
        "                outputs=model(inputs)\n",
        "\n",
        "        \n",
        "        # count the number of correctly predicted samples in the current batch\n",
        "                _, predicted = torch.max(outputs, 1)\n",
        "                total_examples += labels.size(0)\n",
        "                correct_examples += (predicted == labels).sum().item()\n",
        "                if i != 'untargeted':\n",
        "                    target_class_count += sum(predicted == 0).item()\n",
        "                else:\n",
        "                    pass\n",
        "\n",
        "            if i != 'untargeted':\n",
        "                print('For the patch size ', i, ' and rotation ', j, ' the accuracy on test data is ', correct_examples/total_examples, ' and the attack sucess rate is ', target_class_count/10_000)\n",
        "            else:\n",
        "                print('For the untargeted patch', ' of size ', j, ' the accuracy on test data is ', correct_examples/total_examples)\n",
        "            rot_acc.append(correct_examples/total_examples)\n",
        "            rot_asr.append(target_class_count/10_000)\n",
        "\n",
        "\n",
        "\n",
        "\n",
        "\n"
      ]
    },
    {
      "cell_type": "code",
      "execution_count": null,
      "metadata": {
        "colab": {
          "base_uri": "https://localhost:8080/",
          "height": 464
        },
        "id": "BfxPQpm0BaaL",
        "outputId": "7eba31d5-6fb8-40b7-e6df-ea122e520876"
      },
      "outputs": [
        {
          "output_type": "display_data",
          "data": {
            "text/plain": [
              "<Figure size 1152x504 with 2 Axes>"
            ],
            "image/png": "[encoded data removed]"
          },
          "metadata": {
            "needs_background": "light"
          }
        }
      ],
      "source": [
        "rot_data = pd.DataFrame({\n",
        "    \"dim\": [3, 3, 3, 3, 5, 5, 5, 5, 7, 7, 7, 7, 16, 16, 16, 16],\n",
        "    \"rot\": [0, 90, 180, 270, 0, 90, 180, 270, 0, 90, 180, 270, 0, 90, 180, 270],\n",
        "    \"acc\": rot_acc,\n",
        "    \"asr\": rot_asr\n",
        "})\n",
        "\n",
        "plt.subplots(1,2, figsize=(16,7))\n",
        "plt.subplot(1,2,1)\n",
        "sns.barplot(data=rot_data, x='dim', y ='asr', hue='rot')\n",
        "plt.title('Attack Success Rate of Rotated Patches Across Patch Size for Plane', fontsize=15)\n",
        "plt.ylabel('Attack Succes Rate', fontsize=14)\n",
        "plt.xlabel('Patch Size', fontsize=14)\n",
        "plt.legend(title=\"Rotation Angle\")\n",
        "\n",
        "plt.subplot(1,2,2)\n",
        "sns.barplot(data=rot_data, x='dim', y ='acc', hue='rot')\n",
        "plt.title('Test Accuracy of Rotated Patches Across Patch Size', fontsize=16)\n",
        "plt.ylabel('Test Accuracy', fontsize=14)\n",
        "plt.xlabel('Patch Size', fontsize=14)\n",
        "plt.legend(title=\"Rotation Angle\")\n",
        "plt.show()"
      ]
    },
    {
      "cell_type": "code",
      "execution_count": null,
      "metadata": {
        "id": "L9Xpe7NJCjd4",
        "colab": {
          "base_uri": "https://localhost:8080/"
        },
        "outputId": "4a96ba6f-069b-49ca-fc25-d6793a7b5793"
      },
      "outputs": [
        {
          "output_type": "stream",
          "name": "stdout",
          "text": [
            "For the patch size  3  and rotation  0  the accuracy on test data is  0.8154  and the attack sucess rate is  0.116\n",
            "For the patch size  3  and rotation  90  the accuracy on test data is  0.823  and the attack sucess rate is  0.121\n",
            "For the patch size  3  and rotation  180  the accuracy on test data is  0.8291  and the attack sucess rate is  0.1165\n",
            "For the patch size  3  and rotation  270  the accuracy on test data is  0.8223  and the attack sucess rate is  0.1213\n",
            "For the patch size  5  and rotation  0  the accuracy on test data is  0.6385  and the attack sucess rate is  0.0975\n",
            "For the patch size  5  and rotation  90  the accuracy on test data is  0.6563  and the attack sucess rate is  0.1027\n",
            "For the patch size  5  and rotation  180  the accuracy on test data is  0.672  and the attack sucess rate is  0.1057\n",
            "For the patch size  5  and rotation  270  the accuracy on test data is  0.6546  and the attack sucess rate is  0.0985\n",
            "For the patch size  7  and rotation  0  the accuracy on test data is  0.4397  and the attack sucess rate is  0.0527\n",
            "For the patch size  7  and rotation  90  the accuracy on test data is  0.4623  and the attack sucess rate is  0.0601\n",
            "For the patch size  7  and rotation  180  the accuracy on test data is  0.6406  and the attack sucess rate is  0.0616\n",
            "For the patch size  7  and rotation  270  the accuracy on test data is  0.4811  and the attack sucess rate is  0.0668\n",
            "For the patch size  16  and rotation  0  the accuracy on test data is  0.1001  and the attack sucess rate is  0.0\n",
            "For the patch size  16  and rotation  90  the accuracy on test data is  0.1001  and the attack sucess rate is  0.0\n",
            "For the patch size  16  and rotation  180  the accuracy on test data is  0.1  and the attack sucess rate is  0.0\n",
            "For the patch size  16  and rotation  270  the accuracy on test data is  0.1  and the attack sucess rate is  0.0\n"
          ]
        }
      ],
      "source": [
        "sizes = [3,5,7,16]\n",
        "rot = [0, 90, 180, 270]\n",
        "untargeted_rot_acc = []\n",
        "untargeted_rot_asr = []\n",
        "\n",
        "for i in sizes:\n",
        "    for j in rot:\n",
        "        if j == 0:\n",
        "            patch = torch.load('untargeted' + str(i) + 'x' + str(i) + '.pt')\n",
        "        else:\n",
        "            patch = torch.load('untargeted' + str(i) + 'x' + str(i) + 'rotate' + str(j) + '.pt')\n",
        "        total_examples = 0\n",
        "        correct_examples = 0\n",
        "        target_class_count = 0\n",
        "\n",
        "\n",
        "    # disable gradient during validation, which can save GPU memory\n",
        "        with torch.no_grad():\n",
        "            for batch_idx, (inputs, labels) in enumerate(testloader):\n",
        "        ####################################\n",
        "        # copy inputs to device\n",
        "                inputs = place_patch(inputs, patch, j)\n",
        "                inputs = inputs.to(device)\n",
        "                labels = labels.to(device)\n",
        "\n",
        "        \n",
        "        # compute the output and loss\n",
        "                outputs=model(inputs)\n",
        "\n",
        "        \n",
        "        # count the number of correctly predicted samples in the current batch\n",
        "                _, predicted = torch.max(outputs, 1)\n",
        "                total_examples += labels.size(0)\n",
        "                correct_examples += (predicted == labels).sum().item()\n",
        "                if i != 'untargeted':\n",
        "                    target_class_count += sum(predicted == 0).item()\n",
        "                else:\n",
        "                    pass\n",
        "\n",
        "            if i != 'untargeted':\n",
        "                print('For the patch size ', i, ' and rotation ', j, ' the accuracy on test data is ', correct_examples/total_examples, ' and the attack sucess rate is ', target_class_count/10_000)\n",
        "            else:\n",
        "                print('For the untargeted patch', ' of size ', j, ' the accuracy on test data is ', correct_examples/total_examples)\n",
        "            untargeted_rot_acc.append(correct_examples/total_examples)\n",
        "            untargeted_rot_asr.append(target_class_count/10_000)\n",
        "\n",
        "\n",
        "\n",
        "\n",
        "\n"
      ]
    },
    {
      "cell_type": "code",
      "source": [
        "untargeted_rot_data = pd.DataFrame({\n",
        "    \"dim\": [3, 3, 3, 3, 5, 5, 5, 5, 7, 7, 7, 7, 16, 16, 16, 16],\n",
        "    \"rot\": [0, 90, 180, 270, 0, 90, 180, 270, 0, 90, 180, 270, 0, 90, 180, 270],\n",
        "    \"acc\": untargeted_rot_acc\n",
        "})\n",
        "\n",
        "plt.figure(figsize=(10, 7))\n",
        "sns.barplot(data=untargeted_rot_data, x='dim', y ='acc', hue='rot')\n",
        "plt.title('Test Accuracy of Rotated Patches Across Rotated Patch Size for Untargeted Attack', fontsize=16)\n",
        "plt.legend(title=\"Rotation Angle\")\n",
        "plt.ylabel('Test Accuracy', fontsize=14)\n",
        "plt.xlabel('Patch Size', fontsize=14)\n",
        "plt.show()"
      ],
      "metadata": {
        "colab": {
          "base_uri": "https://localhost:8080/",
          "height": 464
        },
        "id": "bchdHpCuat-I",
        "outputId": "12fab736-0a0b-4b86-b6db-996a8e7e7ca5"
      },
      "execution_count": null,
      "outputs": [
        {
          "output_type": "display_data",
          "data": {
            "text/plain": [
              "<Figure size 720x504 with 1 Axes>"
            ],
            "image/png": "[encoded data removed]"
          },
          "metadata": {
            "needs_background": "light"
          }
        }
      ]
    }
  ],
  "metadata": {
    "accelerator": "GPU",
    "colab": {
      "machine_shape": "hm",
      "provenance": [],
      "include_colab_link": true
    },
    "gpuClass": "premium",
    "kernelspec": {
      "display_name": "Python 3",
      "name": "python3"
    },
    "language_info": {
      "name": "python"
    }
  },
  "nbformat": 4,
  "nbformat_minor": 0
}